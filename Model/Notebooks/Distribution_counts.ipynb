{
 "cells": [
  {
   "cell_type": "code",
   "execution_count": 1,
   "id": "676ac8ad",
   "metadata": {},
   "outputs": [],
   "source": [
    "import pandas as pd\n",
    "import numpy as np\n",
    "import seaborn as sns\n",
    "import matplotlib.pyplot as plt"
   ]
  },
  {
   "cell_type": "code",
   "execution_count": 2,
   "id": "b1d6b497",
   "metadata": {},
   "outputs": [],
   "source": [
    "cited_per_patent = pd.read_csv('/Users/romanpeerboom/Documents/Thesis/Model/PATSTAT/Count/Amount_cited_per_patent.csv', delimiter = ';')\n",
    "patent_per_cited = pd.read_csv('/Users/romanpeerboom/Documents/Thesis/Model/PATSTAT/Count/Amount_patent_per_cited.csv', delimiter = ';')\n",
    "\n",
    "patent_per_cited.rename(columns = {'Unnamed: 1':'Total_patents'}, inplace = True)\n",
    "cited_per_patent.rename(columns = {'Unnamed: 1':'Total_citations'}, inplace = True)"
   ]
  },
  {
   "cell_type": "code",
   "execution_count": 3,
   "id": "ec443a22",
   "metadata": {},
   "outputs": [
    {
     "name": "stdout",
     "output_type": "stream",
     "text": [
      "1949287\n",
      "1949287\n"
     ]
    }
   ],
   "source": [
    "print(patent_per_cited['Total_patents'].sum())\n",
    "print(cited_per_patent['Total_citations'].sum())"
   ]
  },
  {
   "cell_type": "code",
   "execution_count": null,
   "id": "e8072989",
   "metadata": {},
   "outputs": [],
   "source": []
  },
  {
   "cell_type": "code",
   "execution_count": null,
   "id": "d290c9c4",
   "metadata": {},
   "outputs": [],
   "source": [
    "patents = sns.displot(patent_per_cited, x=\"Total_patents\")"
   ]
  },
  {
   "cell_type": "code",
   "execution_count": null,
   "id": "a9ba1c47",
   "metadata": {},
   "outputs": [],
   "source": [
    "citations = sns.displot(cited_per_patent, x = 'Total_citations')"
   ]
  },
  {
   "cell_type": "code",
   "execution_count": 5,
   "id": "a8a80e7a",
   "metadata": {},
   "outputs": [
    {
     "name": "stdout",
     "output_type": "stream",
     "text": [
      "        cited_pat_publn_id  Total_patents\n",
      "0                284598276              4\n",
      "1                410619435              1\n",
      "2                293748869              4\n",
      "3                386468301              1\n",
      "4                301597882              2\n",
      "...                    ...            ...\n",
      "691025           323407896              2\n",
      "691026           290385321              2\n",
      "691027           284479687              1\n",
      "691028           287411405              1\n",
      "691029           296699261              1\n",
      "\n",
      "[691030 rows x 2 columns]\n"
     ]
    }
   ],
   "source": [
    "print(patent_per_cited)"
   ]
  },
  {
   "cell_type": "code",
   "execution_count": 18,
   "id": "0ebea835",
   "metadata": {},
   "outputs": [],
   "source": [
    "total_patents = patent_per_cited['Total_patents'].tolist()"
   ]
  },
  {
   "cell_type": "code",
   "execution_count": null,
   "id": "a121fffa",
   "metadata": {},
   "outputs": [
    {
     "data": {
      "text/plain": [
       "<seaborn.axisgrid.FacetGrid at 0x7f7ba958d310>"
      ]
     },
     "execution_count": 19,
     "metadata": {},
     "output_type": "execute_result"
    }
   ],
   "source": [
    "sns.displot(total_patents)"
   ]
  },
  {
   "cell_type": "code",
   "execution_count": null,
   "id": "5e55d0f2",
   "metadata": {},
   "outputs": [],
   "source": [
    "total_citations = cited_per_patent['Total_citations'].tolist()"
   ]
  },
  {
   "cell_type": "code",
   "execution_count": null,
   "id": "ca102d54",
   "metadata": {},
   "outputs": [],
   "source": [
    "sns.displot(total_citations)"
   ]
  },
  {
   "cell_type": "code",
   "execution_count": null,
   "id": "ab86602a",
   "metadata": {},
   "outputs": [],
   "source": []
  }
 ],
 "metadata": {
  "kernelspec": {
   "display_name": "Python 3",
   "language": "python",
   "name": "python3"
  },
  "language_info": {
   "codemirror_mode": {
    "name": "ipython",
    "version": 3
   },
   "file_extension": ".py",
   "mimetype": "text/x-python",
   "name": "python",
   "nbconvert_exporter": "python",
   "pygments_lexer": "ipython3",
   "version": "3.8.8"
  }
 },
 "nbformat": 4,
 "nbformat_minor": 5
}
